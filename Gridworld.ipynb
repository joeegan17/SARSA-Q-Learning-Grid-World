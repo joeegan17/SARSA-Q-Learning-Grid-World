{
 "cells": [
  {
   "cell_type": "code",
   "execution_count": 239,
   "metadata": {},
   "outputs": [],
   "source": [
    "import numpy as np\n",
    "import matplotlib.pyplot as plt\n",
    "import seaborn as sns\n",
    "import pandas as pd"
   ]
  },
  {
   "cell_type": "code",
   "execution_count": 240,
   "metadata": {},
   "outputs": [],
   "source": [
    "class Env():\n",
    "\n",
    "    def __init__(self, rows, cols, cliff_row, cliff_length):\n",
    "        self.rows = rows\n",
    "        self.cols = cols\n",
    "        self.cliff_row = min(cliff_row,self.rows-1)\n",
    "        self.cliff_length = min(cliff_length, self.cols-1)\n",
    "        self.grid = np.zeros(rows*cols).reshape(rows,cols)\n",
    "        for j in range(1, self.cliff_length):\n",
    "            self.grid[self.cliff_row][j] = -1\n",
    "        self.grid[self.rows-1][self.cols-1] = 2\n",
    "        self.grid[self.rows-1][0] = 1\n",
    "        self.start_spot = [self.rows-1,0]\n",
    "\n",
    "        self.step_penalty = -1\n",
    "        self.cliff_penalty = -100\n",
    "        self.reward = -1\n",
    "        self.goal_state = [self.rows-1,self.cols-1]\n",
    "\n",
    "    def give_reward(self, old_pos, action):\n",
    "        new_pos = old_pos.copy()\n",
    "        new_pos[0] -= action[0]\n",
    "        new_pos[1] += action[1]\n",
    "\n",
    "        if new_pos[0] < 0:\n",
    "            new_pos[0] = 0\n",
    "        if new_pos[1] < 0:\n",
    "            new_pos[1] = 0\n",
    "        if new_pos[0] > self.rows-1:\n",
    "            new_pos[0] = self.rows-1\n",
    "        if new_pos[1] > self.cols-1:\n",
    "            new_pos[1] = self.cols-1\n",
    "\n",
    "        grid_spot_val = self.grid[new_pos[0],new_pos[1]]\n",
    "\n",
    "        if grid_spot_val == -1:\n",
    "            reward = self.cliff_penalty\n",
    "            new_pos = [self.rows-1,0]\n",
    "            #print('cliff)')\n",
    "        elif (grid_spot_val == 0) or (grid_spot_val == 1):\n",
    "            reward = self.step_penalty\n",
    "            #print('valid')\n",
    "        elif grid_spot_val == 2:\n",
    "            reward = self.reward\n",
    "            #print('complete')\n",
    "\n",
    "        return reward, new_pos    \n",
    "        \n",
    "\n",
    "\n",
    "\n"
   ]
  },
  {
   "cell_type": "code",
   "execution_count": 241,
   "metadata": {},
   "outputs": [],
   "source": [
    "testenv = Env(3,4,2,3)"
   ]
  },
  {
   "cell_type": "code",
   "execution_count": 242,
   "metadata": {},
   "outputs": [
    {
     "name": "stdout",
     "output_type": "stream",
     "text": [
      "[2, 3]\n"
     ]
    },
    {
     "data": {
      "image/png": "[encoded data removed]",
      "text/plain": [
       "<Figure size 432x288 with 1 Axes>"
      ]
     },
     "metadata": {
      "needs_background": "light"
     },
     "output_type": "display_data"
    }
   ],
   "source": [
    "print(testenv.goal_state)\n",
    "plt.imshow(testenv.grid)\n",
    "plt.xlim(left = 0, right=3)\n",
    "plt.ylim(bottom=2, top = 0)\n",
    "plt.show;"
   ]
  },
  {
   "cell_type": "code",
   "execution_count": 243,
   "metadata": {},
   "outputs": [
    {
     "data": {
      "text/plain": [
       "[[1, 0], [-1, 0], [0, 1], [0, -1]]"
      ]
     },
     "execution_count": 243,
     "metadata": {},
     "output_type": "execute_result"
    }
   ],
   "source": [
    "all_actions = list()\n",
    "\n",
    "all_actions.append([1,0])\n",
    "all_actions.append([-1,0])\n",
    "all_actions.append([0,1])\n",
    "all_actions.append([0,-1])\n",
    "\n",
    "all_actions"
   ]
  },
  {
   "cell_type": "code",
   "execution_count": 244,
   "metadata": {},
   "outputs": [],
   "source": [
    "from audioop import reverse\n",
    "from enum import unique\n",
    "\n",
    "\n",
    "class Agent():\n",
    "\n",
    "    def __init__(self, epsilon, alpha,grid_shape , method = 'S', acts_allowed = all_actions ):\n",
    "        self.epsilon = epsilon\n",
    "        self.alpha = alpha\n",
    "        self.grid_shape = grid_shape\n",
    "        self.method = method\n",
    "        self.step_count = 0\n",
    "        self.avail_actions = acts_allowed.copy()\n",
    "        self.position = [self.grid_shape[0]-1,0]\n",
    "        self.q_table = np.zeros(self.grid_shape[0]*self.grid_shape[1]*len(self.avail_actions)).reshape(self.grid_shape[0],self.grid_shape[1],len(self.avail_actions))\n",
    "        self.meta_rewards = list()\n",
    "        self.meta_positions = list()\n",
    "        self.meta_actions = list()\n",
    "        self.meta_step_count = list()\n",
    "        self.q_counts = np.copy(self.q_table)\n",
    "        self.episode_count = 0\n",
    "        self.total_rew_per_ep = list()\n",
    "        \n",
    "\n",
    "    def update_meta_lists(self, rewards, positions, actions, step_count):\n",
    "        self.meta_rewards.append(rewards)\n",
    "        self.meta_positions.append(positions)\n",
    "        self.meta_actions.append(actions)\n",
    "        self.meta_step_count.append(step_count)\n",
    "        self.total_rew_per_ep.append(sum(rewards))\n",
    "\n",
    "    def generate_avail_actions(self, pos):\n",
    "        #Check the boundries of the grid\n",
    "        avail_acts = self.avail_actions.copy()\n",
    "        #if pos[0] == 0:\n",
    "         #   avail_acts.remove([1,0])\n",
    "        #if pos[0] == (self.grid_shape[0]-1):\n",
    "         #   avail_acts.remove([-1,0])\n",
    "        #if pos[1] == 0:\n",
    "        #    avail_acts.remove([0,-1])\n",
    "        #if pos[1] == (self.grid_shape[1]-1):\n",
    "        #    avail_acts.remove([0,1])\n",
    "        #print(\"available actions\", avail_acts)\n",
    "        return avail_acts    \n",
    "\n",
    "    def q_learning_table_update(self, reward, action, old_pos, new_pos):\n",
    "        x1 = old_pos[0]\n",
    "        x2 = new_pos[0]\n",
    "        y1 = old_pos[1]\n",
    "        y2 = new_pos[1]\n",
    "        act_ind = self.avail_actions.index(action)\n",
    "        self.q_counts[x1,y1,act_ind] += 1\n",
    "        # Q(s,a) <- Q(s,a) + alpha[R + gamma*max(Q(st+1,a)) - Q(s,a)]\n",
    "        \n",
    "        #calculating q-table max value in new position\n",
    "        next_avail_acts = self.generate_avail_actions(new_pos)\n",
    "        next_avail_acts_indics = list()\n",
    "        for i in range(0,len(self.avail_actions)):\n",
    "            if self.avail_actions[i] in next_avail_acts:\n",
    "                next_avail_acts_indics.append(i)\n",
    "        new_qas_max = np.max(self.q_table[x2, y2,np.r_[next_avail_acts_indics]])\n",
    "\n",
    "        #updating our current qas value\n",
    "\n",
    "        self.q_table[x1,y1,act_ind] += self.alpha*(reward + new_qas_max -self.q_table[x1,y1, act_ind])\n",
    "\n",
    "    def choose_action(self, pos,step_actions, return_index = False):\n",
    "        cutoff = (1-self.epsilon) * 10000\n",
    "        roll = np.random.randint(1,10001)\n",
    "\n",
    "        if roll <= cutoff:\n",
    "            #greedy action\n",
    "            #print('Greedy')\n",
    "            avail_indics = list()\n",
    "            for i in range(0,len(self.avail_actions)):\n",
    "                if self.avail_actions[i] in step_actions:\n",
    "                    avail_indics.append(i)\n",
    "            #print('avail_indics to choose action', avail_indics)\n",
    "            avail_qas = self.q_table[ pos[0],pos[1], np.r_[avail_indics]]\n",
    "            #print('qas considered', avail_qas)\n",
    "            max_qa_ind = np.argmax(avail_qas)\n",
    "            #print('argmax of this', max_qa_ind)\n",
    "            max_indis = list()\n",
    "            for j in range(0,len(avail_qas)):\n",
    "                if avail_qas[j] == avail_qas[max_qa_ind]:\n",
    "                    max_indis.append(j)\n",
    "            #print('indexes of this value in qas', max_indis)\n",
    "            ind_of_inds = np.random.randint(0,len(max_indis))\n",
    "            #print('one we choose randomly', ind_of_inds)\n",
    "            action_index = max_indis[ind_of_inds]\n",
    "           # print('action index at this ind of ind', action_index)\n",
    "            action = step_actions[action_index]\n",
    "           # print('action chose', action)\n",
    "            \n",
    "            if return_index:\n",
    "                return action_index\n",
    "            else:\n",
    "                return action\n",
    "        \n",
    "        else: #exploration action\n",
    "            #print('explore')\n",
    "            rand_act_index = np.random.randint(0,len(step_actions))\n",
    "            action = step_actions[rand_act_index]\n",
    "            #print('explore action', action)\n",
    "            if return_index:\n",
    "                return rand_act_index\n",
    "            else:\n",
    "                return action\n",
    "            \n",
    "    def sarsa_table_update(self, reward, action, old_pos, new_pos):\n",
    "        x1 = old_pos.copy()[0]\n",
    "        #print('x1',x1)\n",
    "        x2 = new_pos.copy()[0]\n",
    "        #print('x2',x2)\n",
    "        y1 = old_pos.copy()[1]\n",
    "        #print('y1',y1)\n",
    "        y2 = new_pos.copy()[1]\n",
    "        #print('y2',y2)\n",
    "        #print('Action',action)\n",
    "        act_ind = self.avail_actions.index(action)\n",
    "        #print('act_ind', act_ind)\n",
    "        self.q_counts[x1,y1,act_ind] += 1\n",
    "        #print('q_counts table', self.q_counts[x1,y1,act_ind])\n",
    "        # Q(s,a) <- Q(s,a) + alpha[R + gamma*Q(st+1,at+1) - Q(s,a)]\n",
    "        \n",
    "        #generate available actions in new position, choose one following epsilon greedy, take q value\n",
    "        next_avail_acts = self.generate_avail_actions(new_pos)\n",
    "        #print('next avail actions', next_avail_acts)\n",
    "        next_act = self.choose_action(new_pos,next_avail_acts)\n",
    "        #print('next_act', next_act)\n",
    "        next_act_ind = self.avail_actions.index(next_act)\n",
    "        #print('Index of next available action', next_act_ind )\n",
    "        new_qas_val = self.q_table[x2, y2,next_act_ind]\n",
    "        #print('next state qas value', new_qas_val)\n",
    "\n",
    "        #updating our current qas value\n",
    "\n",
    "        self.q_table[x1,y1,act_ind] += self.alpha*(reward + new_qas_val -self.q_table[x1,y1,act_ind])\n",
    "\n",
    "    def expec_sarsa_table_update(self, reward, action, old_pos, new_pos):\n",
    "        x1 = old_pos.copy()[0]\n",
    "        x2 = new_pos.copy()[0]\n",
    "        y1 = old_pos.copy()[1]\n",
    "        y2 = new_pos.copy()[1]\n",
    "        act_ind = self.avail_actions.index(action)\n",
    "        self.q_counts[x1,y1,act_ind] += 1\n",
    "\n",
    "        num_acts = len(self.avail_actions)\n",
    "        max_qas = np.max(self.q_table[x2,y2]) #find the greedy choice value\n",
    "        max_qas_list = list() \n",
    "        for i in self.q_table[x2,y2]:\n",
    "            if i == max_qas:\n",
    "                max_qas_list.append(i)   #create list of actions at that greedy choise value -- just need the count\n",
    "        greedy_weighted_prob = (1-self.epsilon)/(len(max_qas_list))   #each action at the greedy level has an equal chance of getting picked in the greedy scenario so greedy prob/num of greedy acts\n",
    "        next_qas_list = list(self.q_table[x2,y2])\n",
    "        next_qas_list.sort(reverse=True)   #sort our available state-action values so we can multiply the correct probabilities\n",
    "        qas_probas = list()\n",
    "        for i in range(0,num_acts):\n",
    "            qas_probas.append((self.epsilon*(1/num_acts)))   #everyone has an equal chance under exploration so baseline self.epsilon/number of possible actions\n",
    "        for i in range(0,len(max_qas_list)):\n",
    "            qas_probas[i] += greedy_weighted_prob     #the greedy actions also have the probability of being selected in the greedy scenario\n",
    "    \n",
    "\n",
    "        expec_next_qas_val = 0\n",
    "        for i in range(0,len(next_qas_list)):\n",
    "            expec_next_qas_val += qas_probas[i] * next_qas_list[i]   #multiply each probability and qas and add to the expected value\n",
    "        \n",
    "        \n",
    "        self.q_table[x1,y1,act_ind] += self.alpha*(reward + expec_next_qas_val -self.q_table[x1,y1,act_ind])\n",
    "    \n",
    "    \n",
    "    def navigate_grid(self, grid):\n",
    "        rewards = list()\n",
    "        positions = list()\n",
    "        actions_taken = list()\n",
    "        step_count = 0\n",
    "        self.position = [grid.rows-1, 0]\n",
    "        old_pos = self.position.copy()\n",
    "        #print('start spot', self.position)\n",
    "        done = False\n",
    "        while not(done):\n",
    "            positions.append(list(old_pos))\n",
    "            step_actions = self.generate_avail_actions(old_pos)\n",
    "         #   print('Step Actions', step_actions)\n",
    "            action = self.choose_action(old_pos, step_actions)\n",
    "          #  print('Action', action)\n",
    "            actions_taken.append(list(action))\n",
    "            reward, new_pos = grid.give_reward(old_pos,action)\n",
    "           # print('Reward and New Position', reward, new_pos)\n",
    "            rewards.append(reward)\n",
    "            if self.method == 'S':\n",
    "                self.sarsa_table_update(reward, action, old_pos, new_pos)\n",
    "            #    print('Q-Count table at this state', self.q_counts[old_pos[0],old_pos[1]])\n",
    "            elif self.method == 'Q':\n",
    "                self.q_learning_table_update(reward,action,old_pos, new_pos)\n",
    "            elif self.method == 'E':\n",
    "                self.expec_sarsa_table_update(reward,action, old_pos, new_pos)\n",
    "            old_pos = new_pos.copy()\n",
    "            #print('new pos', old_pos)\n",
    "            step_count += 1\n",
    "            if (new_pos == grid.goal_state):# or (step_count > 35):\n",
    "                done = True\n",
    "                break\n",
    "            #elif reward == -100:\n",
    "                #done = True\n",
    "                #break\n",
    "            else:\n",
    "                pass\n",
    "        \n",
    "        positions.append(list(new_pos)) #add the final position\n",
    "        self.update_meta_lists(rewards, positions, actions_taken, step_count)\n",
    "        self.episode_count += 1   \n",
    "\n",
    "\n",
    "    def reset(self, cleanse_q_table = False):\n",
    "        self.episode_count = 0\n",
    "        if cleanse_q_table:\n",
    "            self.q_table = np.zeros(self.grid_shape[0]*self.grid_shape[1]*len(self.avail_actions)).reshape(self.grid_shape[0],self.grid_shape[1], len(self.avail_actions))\n",
    "            self.q_counts = np.copy(self.q_table)\n",
    "        else:\n",
    "            pass\n",
    "    \n",
    "    def return_trajectory(self, grid):\n",
    "        path = list()\n",
    "        path_actions = list()\n",
    "        not_finished = True\n",
    "        position = list([grid.rows-1,0])\n",
    "        \n",
    "        path.append(list(position))\n",
    "        while not_finished:\n",
    "            #print('Position', position)\n",
    "            best_act_ind = np.argmax(self.q_table[position[0],position[1]])\n",
    "            path_action = self.avail_actions[best_act_ind] #this is the optimal action taken at this location\n",
    "\n",
    "            path_actions.append(list(path_action))\n",
    "            #print('action selected',path_action)\n",
    "            position[0] -= path_action[0]\n",
    "            position[1] += path_action[1]\n",
    "            #print('new pos', position)\n",
    "            path.append(list(position))\n",
    "            #print('Current trajectory', path)\n",
    "            if (grid.grid[position[0], position[1]] == 2):\n",
    "                not_finished = False\n",
    "                break\n",
    "        x_path = list()\n",
    "        y_path = list()   \n",
    "\n",
    "        for i in range(0,len(path)):\n",
    "            x_path.append(path[i][1])\n",
    "            y_path.append(path[i][0])\n",
    "            \n",
    "        return x_path, y_path\n",
    "\n",
    "    def plot_trajectory(self, x_path, y_path, grid, hide_ax = True):\n",
    "        if self.method == 'S':\n",
    "            color_code = 'blue'\n",
    "        else:\n",
    "            color_code = 'red'\n",
    "        sns.scatterplot(x=x_path, y=y_path, color=color_code, estimator=np.max)\n",
    "        plt.imshow(grid.grid)\n",
    "        if hide_ax:\n",
    "            plt.axis('off')\n",
    "        plt.show;\n",
    "\n",
    "\n",
    "    def print_stats(self):\n",
    "\n",
    "        print('Average Rewards', sum(self.total_rew_per_ep)/self.episode_count)\n",
    "        print('Average Episode Length', sum(self.meta_step_count)/self.episode_count)\n",
    "\n",
    "        total_rewards = list()\n",
    "        for i in range(0,len(self.meta_rewards)):\n",
    "            total_rewards.append(sum(self.meta_rewards[i]))\n",
    "        highest_reward_episode = max(total_rewards)\n",
    "\n",
    "        print(\"Highest Total Reward Achieved\", highest_reward_episode)\n",
    "\n",
    "        \n"
   ]
  },
  {
   "cell_type": "code",
   "execution_count": 245,
   "metadata": {},
   "outputs": [],
   "source": [
    "test_agent = Agent(.1,.1, [3,4], 'S', all_actions)"
   ]
  },
  {
   "cell_type": "code",
   "execution_count": 246,
   "metadata": {},
   "outputs": [],
   "source": [
    "while test_agent.episode_count < 500:\n",
    "    test_agent.navigate_grid(grid= testenv)"
   ]
  },
  {
   "cell_type": "code",
   "execution_count": 247,
   "metadata": {},
   "outputs": [
    {
     "name": "stdout",
     "output_type": "stream",
     "text": [
      "Average Rewards -14.276\n",
      "Average Episode Length 9.326\n",
      "Highest Total Reward Achieved -5\n"
     ]
    }
   ],
   "source": [
    "test_agent.print_stats()"
   ]
  },
  {
   "cell_type": "code",
   "execution_count": 248,
   "metadata": {},
   "outputs": [
    {
     "name": "stdout",
     "output_type": "stream",
     "text": [
      "[0, 0, 0, 1, 2, 3, 3, 3]\n",
      "[2, 1, 0, 0, 0, 0, 1, 2]\n"
     ]
    }
   ],
   "source": [
    "xp, yp = test_agent.return_trajectory(grid=testenv)\n",
    "print(xp)\n",
    "print(yp)"
   ]
  },
  {
   "cell_type": "code",
   "execution_count": 249,
   "metadata": {},
   "outputs": [
    {
     "data": {
      "image/png": "[encoded data removed]",
      "text/plain": [
       "<Figure size 432x288 with 1 Axes>"
      ]
     },
     "metadata": {
      "needs_background": "light"
     },
     "output_type": "display_data"
    }
   ],
   "source": [
    "test_agent.plot_trajectory(xp,yp,grid=testenv)"
   ]
  },
  {
   "cell_type": "code",
   "execution_count": 250,
   "metadata": {},
   "outputs": [],
   "source": [
    "test_agent_Q = Agent(.1,.1,[3,4],'Q',all_actions)"
   ]
  },
  {
   "cell_type": "code",
   "execution_count": 251,
   "metadata": {},
   "outputs": [],
   "source": [
    "while test_agent_Q.episode_count < 500:\n",
    "    test_agent_Q.navigate_grid(grid=testenv)"
   ]
  },
  {
   "cell_type": "code",
   "execution_count": 252,
   "metadata": {},
   "outputs": [
    {
     "name": "stdout",
     "output_type": "stream",
     "text": [
      "Average Rewards -18.724\n",
      "Average Episode Length 7.438\n",
      "Highest Total Reward Achieved -5\n"
     ]
    }
   ],
   "source": [
    "test_agent_Q.print_stats()"
   ]
  },
  {
   "cell_type": "code",
   "execution_count": 253,
   "metadata": {},
   "outputs": [],
   "source": [
    "xpq, ypq = test_agent_Q.return_trajectory(testenv)"
   ]
  },
  {
   "cell_type": "code",
   "execution_count": 254,
   "metadata": {},
   "outputs": [
    {
     "data": {
      "image/png": "[encoded data removed]",
      "text/plain": [
       "<Figure size 432x288 with 1 Axes>"
      ]
     },
     "metadata": {
      "needs_background": "light"
     },
     "output_type": "display_data"
    }
   ],
   "source": [
    "test_agent_Q.plot_trajectory(xpq,ypq,testenv)"
   ]
  },
  {
   "cell_type": "code",
   "execution_count": 255,
   "metadata": {},
   "outputs": [],
   "source": [
    "fullenv = Env(4,12,4,11)"
   ]
  },
  {
   "cell_type": "code",
   "execution_count": 256,
   "metadata": {},
   "outputs": [
    {
     "data": {
      "image/png": "[encoded data removed]",
      "text/plain": [
       "<Figure size 432x288 with 1 Axes>"
      ]
     },
     "metadata": {
      "needs_background": "light"
     },
     "output_type": "display_data"
    }
   ],
   "source": [
    "plt.imshow(fullenv.grid)\n",
    "plt.show;"
   ]
  },
  {
   "cell_type": "code",
   "execution_count": 407,
   "metadata": {},
   "outputs": [],
   "source": [
    "s_agent = Agent(.1,.1,[4,12],'S',all_actions)\n",
    "q_agent = Agent(.1,.1,[4,12],'Q', all_actions)"
   ]
  },
  {
   "cell_type": "code",
   "execution_count": 413,
   "metadata": {},
   "outputs": [],
   "source": [
    "\n",
    "while s_agent.episode_count<5000:\n",
    "    s_agent.navigate_grid(grid=fullenv)\n",
    "while q_agent.episode_count<5000:\n",
    "    q_agent.navigate_grid(grid=fullenv)"
   ]
  },
  {
   "cell_type": "code",
   "execution_count": 414,
   "metadata": {},
   "outputs": [],
   "source": [
    "sxp, syp = s_agent.return_trajectory(grid=fullenv)\n",
    "qxp, qyp = q_agent.return_trajectory(grid=fullenv)"
   ]
  },
  {
   "cell_type": "code",
   "execution_count": 415,
   "metadata": {},
   "outputs": [
    {
     "data": {
      "image/png": "[encoded data removed]",
      "text/plain": [
       "<Figure size 432x288 with 1 Axes>"
      ]
     },
     "metadata": {
      "needs_background": "light"
     },
     "output_type": "display_data"
    }
   ],
   "source": [
    "sns.scatterplot(x=sxp, y=syp, color='blue')\n",
    "sns.scatterplot(x=qxp, y=qyp, color = 'red')\n",
    "plt.imshow(fullenv.grid)\n",
    "plt.imshow;"
   ]
  },
  {
   "cell_type": "code",
   "execution_count": 416,
   "metadata": {},
   "outputs": [],
   "source": [
    "x_axis = np.arange(1,5001)"
   ]
  },
  {
   "cell_type": "code",
   "execution_count": 417,
   "metadata": {},
   "outputs": [
    {
     "data": {
      "image/png": "[encoded data removed]",
      "text/plain": [
       "<Figure size 432x288 with 1 Axes>"
      ]
     },
     "metadata": {
      "needs_background": "light"
     },
     "output_type": "display_data"
    }
   ],
   "source": [
    "sns.lineplot(x=x_axis[10:501], y=s_agent.total_rew_per_ep[10:501])\n",
    "sns.lineplot(x=x_axis[10:501], y=q_agent.total_rew_per_ep[10:501])\n",
    "plt.xlabel('Episodes')\n",
    "plt.ylabel('Sum of Rewards During Episode')\n",
    "plt.ylim(bottom=-100)\n",
    "plt.legend(labels=['Sarsa Agent', 'Q-learning Agent'])\n",
    "plt.show;"
   ]
  },
  {
   "cell_type": "code",
   "execution_count": 267,
   "metadata": {},
   "outputs": [],
   "source": [
    "s_agent_list = list()\n",
    "for i in range(0,100):\n",
    "    s_agent_list.append(Agent(.1,.1,[4,12],'S',all_actions))"
   ]
  },
  {
   "cell_type": "code",
   "execution_count": 268,
   "metadata": {},
   "outputs": [],
   "source": [
    "q_agent_list = list()\n",
    "for i in range(0,100):\n",
    "    q_agent_list.append(Agent(.1,.1,[4,12],'Q',all_actions))   "
   ]
  },
  {
   "cell_type": "code",
   "execution_count": 269,
   "metadata": {},
   "outputs": [],
   "source": [
    "s_agents_average_rewards = list()\n",
    "q_agents_average_rewards = list()"
   ]
  },
  {
   "cell_type": "code",
   "execution_count": 270,
   "metadata": {},
   "outputs": [],
   "source": [
    "for agent in range(0,len(s_agent_list)):\n",
    "    while s_agent_list[agent].episode_count < 500:\n",
    "        s_agent_list[agent].navigate_grid(grid=fullenv)"
   ]
  },
  {
   "cell_type": "code",
   "execution_count": 271,
   "metadata": {},
   "outputs": [],
   "source": [
    "for agent in range(0,len(q_agent_list)):\n",
    "    while q_agent_list[agent].episode_count < 500:\n",
    "        q_agent_list[agent].navigate_grid(grid=fullenv)"
   ]
  },
  {
   "cell_type": "code",
   "execution_count": 272,
   "metadata": {},
   "outputs": [],
   "source": [
    "s_agents_avg_rew_per_ep = list()\n",
    "q_agents_avg_rew_per_ep = list()"
   ]
  },
  {
   "cell_type": "code",
   "execution_count": 273,
   "metadata": {},
   "outputs": [],
   "source": [
    "for indic in range(0,500):\n",
    "    sub_list = list()\n",
    "    for agent in s_agent_list:\n",
    "        sub_list.append(agent.total_rew_per_ep[indic])\n",
    "    s_agents_avg_rew_per_ep.append(list(sub_list))"
   ]
  },
  {
   "cell_type": "code",
   "execution_count": 274,
   "metadata": {},
   "outputs": [],
   "source": [
    "for indic in range(0,500):\n",
    "    sub_list = list()\n",
    "    for agent in q_agent_list:\n",
    "        sub_list.append(agent.total_rew_per_ep[indic])\n",
    "    q_agents_avg_rew_per_ep.append(list(sub_list))"
   ]
  },
  {
   "cell_type": "code",
   "execution_count": 275,
   "metadata": {},
   "outputs": [],
   "source": [
    "for i in range(0,len(s_agents_avg_rew_per_ep)):\n",
    "    s_agents_avg_rew_per_ep[i] = sum(s_agents_avg_rew_per_ep[i])/len(s_agents_avg_rew_per_ep[i])"
   ]
  },
  {
   "cell_type": "code",
   "execution_count": 276,
   "metadata": {},
   "outputs": [],
   "source": [
    "for i in range(0,len(q_agents_avg_rew_per_ep)):\n",
    "    q_agents_avg_rew_per_ep[i] = sum(q_agents_avg_rew_per_ep[i])/len(q_agents_avg_rew_per_ep[i])"
   ]
  },
  {
   "cell_type": "code",
   "execution_count": 434,
   "metadata": {},
   "outputs": [
    {
     "data": {
      "image/png": "[encoded data removed]",
      "text/plain": [
       "<Figure size 432x288 with 1 Axes>"
      ]
     },
     "metadata": {
      "needs_background": "light"
     },
     "output_type": "display_data"
    }
   ],
   "source": [
    "x_axis = np.arange(1,501)\n",
    "sns.lineplot(x=x_axis[10:], y=s_agents_avg_rew_per_ep[10:])\n",
    "sns.lineplot(x=x_axis[10:], y=q_agents_avg_rew_per_ep[10:])\n",
    "plt.xlabel('Episodes')\n",
    "plt.ylabel('Sum of rewards during episode')\n",
    "plt.legend(labels=['SARSA','Q-Learning'])\n",
    "plt.ylim(bottom=-100)\n",
    "plt.show;\n"
   ]
  },
  {
   "cell_type": "code",
   "execution_count": 278,
   "metadata": {},
   "outputs": [],
   "source": [
    "#Creating the combined Q tables"
   ]
  },
  {
   "cell_type": "code",
   "execution_count": 279,
   "metadata": {},
   "outputs": [],
   "source": [
    "s_agents_q_table = np.zeros(4*12*4).reshape(4,12,4)\n",
    "q_agents_q_table = np.zeros(4*12*4).reshape(4,12,4)\n"
   ]
  },
  {
   "cell_type": "code",
   "execution_count": 280,
   "metadata": {},
   "outputs": [],
   "source": [
    "for row in range(0,4):\n",
    "    row_list =list()\n",
    "    for col in range(0,12):\n",
    "        col_list = list()\n",
    "        for act in range(0,4):\n",
    "            avg_q_vals = list()\n",
    "            for agent in s_agent_list:\n",
    "                avg_q_vals.append(agent.q_table[row,col,act])\n",
    "            avg_q_val=sum(avg_q_vals)/len(avg_q_vals)\n",
    "            col_list.append(avg_q_val)\n",
    "        s_agents_q_table[row,col] = np.array(col_list)\n"
   ]
  },
  {
   "cell_type": "code",
   "execution_count": 281,
   "metadata": {},
   "outputs": [],
   "source": [
    "for row in range(0,4):\n",
    "    row_list =list()\n",
    "    for col in range(0,12):\n",
    "        col_list = list()\n",
    "        for act in range(0,4):\n",
    "            avg_q_vals = list()\n",
    "            for agent in q_agent_list:\n",
    "                avg_q_vals.append(agent.q_table[row,col,act])\n",
    "            avg_q_val=sum(avg_q_vals)/len(avg_q_vals)\n",
    "            col_list.append(avg_q_val)\n",
    "        q_agents_q_table[row,col] = np.array(col_list)\n"
   ]
  },
  {
   "cell_type": "code",
   "execution_count": 282,
   "metadata": {},
   "outputs": [],
   "source": [
    "dum_s_agent = Agent(.1,.1,[4,12],'S',all_actions)\n",
    "dum_s_agent.q_table = s_agents_q_table\n",
    "\n",
    "all_sxp, all_syp = dum_s_agent.return_trajectory(grid=fullenv)"
   ]
  },
  {
   "cell_type": "code",
   "execution_count": 283,
   "metadata": {},
   "outputs": [],
   "source": [
    "dum_q_agent = Agent(.1,.1,[4,12],'Q',all_actions)\n",
    "dum_q_agent.q_table = q_agents_q_table\n",
    "\n",
    "all_qxp, all_qyp = dum_q_agent.return_trajectory(grid=fullenv)"
   ]
  },
  {
   "cell_type": "code",
   "execution_count": 284,
   "metadata": {},
   "outputs": [
    {
     "data": {
      "image/png": "[encoded data removed]",
      "text/plain": [
       "<Figure size 432x288 with 1 Axes>"
      ]
     },
     "metadata": {
      "needs_background": "light"
     },
     "output_type": "display_data"
    }
   ],
   "source": [
    "sns.scatterplot(x=all_sxp,y=all_syp, color='blue')\n",
    "sns.scatterplot(x=all_qxp,y=all_qyp, color='red')\n",
    "plt.imshow(fullenv.grid)\n",
    "plt.axis('off')\n",
    "plt.imshow;\n"
   ]
  },
  {
   "cell_type": "code",
   "execution_count": 285,
   "metadata": {},
   "outputs": [],
   "source": [
    "### testing expected Sarsa"
   ]
  },
  {
   "cell_type": "code",
   "execution_count": 286,
   "metadata": {},
   "outputs": [],
   "source": [
    "e_agent_list = list()\n",
    "for i in range(0,100):\n",
    "    e_agent_list.append(Agent(.1,.1,[4,12],'E',all_actions))   "
   ]
  },
  {
   "cell_type": "code",
   "execution_count": 287,
   "metadata": {},
   "outputs": [],
   "source": [
    "e_agents_average_rewards = list()"
   ]
  },
  {
   "cell_type": "code",
   "execution_count": 288,
   "metadata": {},
   "outputs": [],
   "source": [
    "for agent in range(0,len(e_agent_list)):\n",
    "    while e_agent_list[agent].episode_count < 500:\n",
    "        e_agent_list[agent].navigate_grid(grid=fullenv)"
   ]
  },
  {
   "cell_type": "code",
   "execution_count": 289,
   "metadata": {},
   "outputs": [],
   "source": [
    "e_agents_avg_rew_per_ep = list()"
   ]
  },
  {
   "cell_type": "code",
   "execution_count": 290,
   "metadata": {},
   "outputs": [],
   "source": [
    "for indic in range(0,500):\n",
    "    sub_list = list()\n",
    "    for agent in e_agent_list:\n",
    "        sub_list.append(agent.total_rew_per_ep[indic])\n",
    "    e_agents_avg_rew_per_ep.append(list(sub_list))"
   ]
  },
  {
   "cell_type": "code",
   "execution_count": 291,
   "metadata": {},
   "outputs": [],
   "source": [
    "for i in range(0,len(e_agents_avg_rew_per_ep)):\n",
    "    e_agents_avg_rew_per_ep[i] = sum(e_agents_avg_rew_per_ep[i])/len(e_agents_avg_rew_per_ep[i])"
   ]
  },
  {
   "cell_type": "code",
   "execution_count": 420,
   "metadata": {},
   "outputs": [
    {
     "data": {
      "image/png": "[encoded data removed]",
      "text/plain": [
       "<Figure size 432x288 with 1 Axes>"
      ]
     },
     "metadata": {
      "needs_background": "light"
     },
     "output_type": "display_data"
    }
   ],
   "source": [
    "sns.lineplot(x=x_axis[10:500], y=s_agents_avg_rew_per_ep[10:])\n",
    "#sns.lineplot(x=x_axis[10:], y=q_agents_avg_rew_per_ep[10:])\n",
    "sns.lineplot(x=x_axis[10:500], y=e_agents_avg_rew_per_ep[10:])\n",
    "plt.xlabel('Episodes')\n",
    "plt.ylabel('Sum of rewards during episode')\n",
    "plt.legend(labels=['SARSA','Expected SARSA'])\n",
    "plt.ylim(bottom=-100)\n",
    "plt.show;\n"
   ]
  },
  {
   "cell_type": "code",
   "execution_count": 293,
   "metadata": {},
   "outputs": [],
   "source": [
    "e_agents_q_table = np.zeros(4*12*4).reshape(4,12,4)\n",
    "\n"
   ]
  },
  {
   "cell_type": "code",
   "execution_count": 294,
   "metadata": {},
   "outputs": [],
   "source": [
    "for row in range(0,4):\n",
    "    row_list =list()\n",
    "    for col in range(0,12):\n",
    "        col_list = list()\n",
    "        for act in range(0,4):\n",
    "            avg_q_vals = list()\n",
    "            for agent in e_agent_list:\n",
    "                avg_q_vals.append(agent.q_table[row,col,act])\n",
    "            avg_q_val=sum(avg_q_vals)/len(avg_q_vals)\n",
    "            col_list.append(avg_q_val)\n",
    "        e_agents_q_table[row,col] = np.array(col_list)\n"
   ]
  },
  {
   "cell_type": "code",
   "execution_count": 295,
   "metadata": {},
   "outputs": [],
   "source": [
    "dum_e_agent = Agent(.1,.1,[4,12],'E',all_actions)\n",
    "dum_e_agent.q_table = s_agents_q_table\n",
    "\n",
    "all_exp, all_eyp = dum_e_agent.return_trajectory(grid=fullenv)"
   ]
  },
  {
   "cell_type": "code",
   "execution_count": 296,
   "metadata": {},
   "outputs": [
    {
     "data": {
      "image/png": "[encoded data removed]",
      "text/plain": [
       "<Figure size 432x288 with 1 Axes>"
      ]
     },
     "metadata": {
      "needs_background": "light"
     },
     "output_type": "display_data"
    }
   ],
   "source": [
    "sns.scatterplot(x=all_sxp,y=all_syp, color='blue')\n",
    "sns.scatterplot(x=all_qxp,y=all_qyp, color='red')\n",
    "sns.scatterplot(x=all_exp,y=all_eyp, color='green')\n",
    "plt.imshow(fullenv.grid)\n",
    "plt.axis('off')\n",
    "plt.imshow;\n"
   ]
  },
  {
   "cell_type": "code",
   "execution_count": 297,
   "metadata": {},
   "outputs": [],
   "source": [
    "#### So it's very similar to regular SARSA under the alpha of .1\n",
    "###checking at varying values of alpha"
   ]
  },
  {
   "cell_type": "code",
   "execution_count": 298,
   "metadata": {},
   "outputs": [
    {
     "name": "stdout",
     "output_type": "stream",
     "text": [
      "[0.1  0.15 0.2  0.25 0.3  0.35 0.4  0.45 0.5  0.55 0.6  0.65 0.7  0.75\n",
      " 0.8  0.85 0.9  0.95 1.  ]\n"
     ]
    }
   ],
   "source": [
    "alphas = np.arange(2,21)/20\n",
    "print(alphas)"
   ]
  },
  {
   "cell_type": "code",
   "execution_count": 299,
   "metadata": {},
   "outputs": [],
   "source": [
    "e_avg_rew_per_alpha = list()\n",
    "s_avg_rew_per_alpha = list()\n",
    "q_avg_rew_per_alpha = list()\n",
    "s_first_hund = list()\n",
    "e_first_hund = list()\n",
    "q_first_hund = list()\n"
   ]
  },
  {
   "cell_type": "code",
   "execution_count": 300,
   "metadata": {},
   "outputs": [],
   "source": [
    "for i in range(0,len(alphas)):\n",
    "    alpha_s_agent = Agent(.1,alphas[i], [4,12],'S',all_actions)\n",
    "    alpha_e_agent = Agent(.1,alphas[i], [4,12],'E',all_actions)\n",
    "    alpha_q_agent = Agent(.1,alphas[i], [4,12],'Q',all_actions)\n",
    "\n",
    "    while alpha_s_agent.episode_count < 5000:\n",
    "        alpha_s_agent.navigate_grid(grid=fullenv)\n",
    "\n",
    "    while alpha_e_agent.episode_count < 5000:\n",
    "        alpha_e_agent.navigate_grid(grid=fullenv)\n",
    "\n",
    "    while alpha_q_agent.episode_count < 5000:\n",
    "        alpha_q_agent.navigate_grid(grid=fullenv)\n",
    "\n",
    "    avg_s_rew = sum(alpha_s_agent.total_rew_per_ep[100:])/4900\n",
    "    avg_e_rew = sum(alpha_e_agent.total_rew_per_ep[100:])/4900\n",
    "    avg_q_rew = sum(alpha_q_agent.total_rew_per_ep[100:])/4900\n",
    "\n",
    "    s_first_hund_avg = sum(alpha_s_agent.total_rew_per_ep[:100])/100\n",
    "    e_first_hund_avg = sum(alpha_e_agent.total_rew_per_ep[:100])/100\n",
    "    q_first_hund_avg = sum(alpha_q_agent.total_rew_per_ep[:100])/100\n",
    "\n",
    "    s_avg_rew_per_alpha.append(avg_s_rew)\n",
    "    e_avg_rew_per_alpha.append(avg_e_rew)\n",
    "    q_avg_rew_per_alpha.append(avg_q_rew)\n",
    "\n",
    "    s_first_hund.append(s_first_hund_avg)\n",
    "    e_first_hund.append(e_first_hund_avg)\n",
    "    q_first_hund.append(q_first_hund_avg)\n",
    "\n",
    "\n",
    "    \n"
   ]
  },
  {
   "cell_type": "code",
   "execution_count": 301,
   "metadata": {},
   "outputs": [
    {
     "data": {
      "image/png": "[encoded data removed]",
      "text/plain": [
       "<Figure size 432x288 with 1 Axes>"
      ]
     },
     "metadata": {
      "needs_background": "light"
     },
     "output_type": "display_data"
    }
   ],
   "source": [
    "sns.lineplot(x=alphas, y=e_avg_rew_per_alpha, color = 'red')\n",
    "sns.lineplot(x=alphas, y=s_avg_rew_per_alpha, color = 'blue')\n",
    "sns.lineplot(x=alphas, y=q_avg_rew_per_alpha, color = 'black')\n",
    "\n",
    "sns.lineplot(x=alphas, y=e_first_hund, color = 'red', linestyle='--')\n",
    "sns.lineplot(x=alphas, y=s_first_hund, color = 'blue', linestyle='--')\n",
    "sns.lineplot(x=alphas, y=q_first_hund, color = 'black', linestyle='--')\n",
    "\n",
    "plt.xlabel('Alpha level')\n",
    "plt.ylabel('Average Reward Per Episode')\n",
    "plt.legend(labels=['Expected SARSA', 'SARSA', 'Q-Learning'])\n",
    "plt.show;"
   ]
  },
  {
   "cell_type": "code",
   "execution_count": 302,
   "metadata": {},
   "outputs": [
    {
     "name": "stdout",
     "output_type": "stream",
     "text": [
      "[0.1  0.15 0.2  0.25 0.3  0.35 0.4  0.45 0.5 ]\n"
     ]
    }
   ],
   "source": [
    "epsilons = np.arange(2,11)/20\n",
    "print(epsilons)"
   ]
  },
  {
   "cell_type": "code",
   "execution_count": 431,
   "metadata": {},
   "outputs": [],
   "source": [
    "epsilon_s_agents = list()\n",
    "for i in range(0,len(epsilons)):\n",
    "    epsilon_s_agents.append(Agent(epsilons[i], .1,[4,12],'S',all_actions))\n"
   ]
  },
  {
   "cell_type": "code",
   "execution_count": 432,
   "metadata": {},
   "outputs": [],
   "source": [
    "np.random.seed(220)\n",
    "for agent in epsilon_s_agents:\n",
    "    while agent.episode_count < 1000:\n",
    "        agent.navigate_grid(grid=fullenv)\n"
   ]
  },
  {
   "cell_type": "code",
   "execution_count": 433,
   "metadata": {},
   "outputs": [
    {
     "data": {
      "image/png": "[encoded data removed]",
      "text/plain": [
       "<Figure size 720x432 with 10 Axes>"
      ]
     },
     "metadata": {
      "needs_background": "light"
     },
     "output_type": "display_data"
    }
   ],
   "source": [
    "fig = plt.figure(figsize=(10,6))\n",
    "rows = 3\n",
    "cols = 3\n",
    "plt.title('Optimal Trajectory After 1000 Episodes Under Varying Epsilons')\n",
    "plt.axis('off')\n",
    "\n",
    "for i in range(0,9):\n",
    "    fig.add_subplot(rows,cols, i+1)\n",
    "    xp, yp = epsilon_s_agents[i].return_trajectory(grid=fullenv)\n",
    "    sns.scatterplot(x=xp, y=yp)\n",
    "    plt.imshow(fullenv.grid)\n",
    "    plt.axis('off')\n",
    "    plt.title(f'Epsilon: {epsilons[i]}')\n",
    "\n",
    "\n",
    "plt.tight_layout()\n",
    "\n"
   ]
  },
  {
   "cell_type": "code",
   "execution_count": null,
   "metadata": {},
   "outputs": [],
   "source": []
  }
 ],
 "metadata": {
  "kernelspec": {
   "display_name": "Python 3.10.8 64-bit (microsoft store)",
   "language": "python",
   "name": "python3"
  },
  "language_info": {
   "codemirror_mode": {
    "name": "ipython",
    "version": 3
   },
   "file_extension": ".py",
   "mimetype": "text/x-python",
   "name": "python",
   "nbconvert_exporter": "python",
   "pygments_lexer": "ipython3",
   "version": "3.10.8"
  },
  "orig_nbformat": 4,
  "vscode": {
   "interpreter": {
    "hash": "eb248a45c5851c61d411cc68a924ee8e71b7da6271e788b4168c3f15db8ceb03"
   }
  }
 },
 "nbformat": 4,
 "nbformat_minor": 2
}
